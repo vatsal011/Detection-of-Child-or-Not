{
 "cells": [
  {
   "cell_type": "code",
   "execution_count": 1,
   "metadata": {},
   "outputs": [
    {
     "name": "stdout",
     "output_type": "stream",
     "text": [
      "WARNING:tensorflow:From c:\\Python311\\Lib\\site-packages\\keras\\src\\losses.py:2976: The name tf.losses.sparse_softmax_cross_entropy is deprecated. Please use tf.compat.v1.losses.sparse_softmax_cross_entropy instead.\n",
      "\n"
     ]
    }
   ],
   "source": [
    "import os\n",
    "import shutil\n",
    "import numpy as np\n",
    "import pandas as pd\n",
    "import matplotlib.pyplot as plt\n",
    "import seaborn as sns\n",
    "import cv2\n",
    "import pickle\n",
    "import tensorflow as tf\n",
    "from tensorflow import keras\n",
    "from keras.layers import Dropout\n",
    "from keras.layers import Flatten\n",
    "from keras.layers import BatchNormalization\n",
    "from keras.layers import Dense, MaxPooling2D, Conv2D\n",
    "from keras.layers import Input, Activation, Add\n",
    "from keras.models import Model, load_model\n",
    "from keras.regularizers import l2\n",
    "from keras.optimizers import Adam, Adagrad, Adadelta, Adamax, RMSprop\n",
    "from keras.callbacks import ModelCheckpoint, EarlyStopping\n",
    "from sklearn.model_selection import train_test_split\n",
    "from sklearn.metrics import confusion_matrix, classification_report"
   ]
  },
  {
   "cell_type": "markdown",
   "metadata": {},
   "source": [
    "Dataset: https://www.kaggle.com/datasets/jangedoo/utkface-new"
   ]
  },
  {
   "cell_type": "markdown",
   "metadata": {},
   "source": [
    "### Importing data"
   ]
  },
  {
   "cell_type": "code",
   "execution_count": 2,
   "metadata": {},
   "outputs": [],
   "source": [
    "fldr = \"./UTKFace\""
   ]
  },
  {
   "cell_type": "code",
   "execution_count": 3,
   "metadata": {},
   "outputs": [],
   "source": [
    "files = os.listdir(fldr)"
   ]
  },
  {
   "cell_type": "code",
   "execution_count": 4,
   "metadata": {},
   "outputs": [
    {
     "name": "stdout",
     "output_type": "stream",
     "text": [
      "100_0_0_20170112213500903.jpg.chip.jpg 23708\n"
     ]
    }
   ],
   "source": [
    "print(files[0], len(files))"
   ]
  },
  {
   "cell_type": "markdown",
   "metadata": {},
   "source": [
    "The labels of each face image is embedded in the file name, formated like [age]\\_[gender]\\_[race]\\_[date&time].jpg\n",
    "\n",
    "[age] is an integer from 0 to 116, indicating the age \n",
    "\n",
    "[gender] is either 0 (male) or 1 (female)\n",
    "\n",
    "[race] is an integer from 0 to 4, denoting White, Black, Asian, Indian, and Others (like Hispanic, Latino, Middle Eastern).\n",
    "\n",
    "[date&time] is in the format of yyyymmddHHMMSSFFF, showing the date and time an image was collected to UTKFace"
   ]
  },
  {
   "cell_type": "markdown",
   "metadata": {},
   "source": [
    "### Finding and changing color channel to RGB"
   ]
  },
  {
   "cell_type": "code",
   "execution_count": 5,
   "metadata": {},
   "outputs": [
    {
     "name": "stdout",
     "output_type": "stream",
     "text": [
      "Image is in BGR (Blue, Green, Red) color space.\n"
     ]
    }
   ],
   "source": [
    "image_path = fldr+\"/\"+files[0]\n",
    "image = cv2.imread(image_path)\n",
    "\n",
    "# Get the shape of the image\n",
    "height, width, channels = image.shape\n",
    "\n",
    "# Print the color space information\n",
    "if channels == 1:\n",
    "    print(\"Image is in Grayscale (single channel) mode.\")\n",
    "elif channels == 3:\n",
    "    print(\"Image is in BGR (Blue, Green, Red) color space.\")\n",
    "elif channels == 4:\n",
    "    print(\"Image is in BGRA (Blue, Green, Red, Alpha) color space.\")\n",
    "else:\n",
    "    print(f\"Image has {channels} channels. Color space may vary.\")\n"
   ]
  },
  {
   "cell_type": "code",
   "execution_count": 6,
   "metadata": {},
   "outputs": [],
   "source": [
    "ages=[]\n",
    "images=[]\n",
    "\n",
    "for f in files:\n",
    "    age = int(f.split(\"_\")[0])\n",
    "    ages.append(age)\n",
    "    total = fldr+\"/\"+f\n",
    "    # print(total)\n",
    "    image = cv2.imread(total)\n",
    "\n",
    "    image = cv2.cvtColor(image, cv2.COLOR_BGR2RGB)\n",
    "    image = cv2.resize(image, (64,64))\n",
    "    images.append(image)\n"
   ]
  },
  {
   "cell_type": "code",
   "execution_count": 7,
   "metadata": {},
   "outputs": [],
   "source": [
    "# print(ages)\n",
    "# print(genders)\n",
    "# print(images)"
   ]
  },
  {
   "cell_type": "markdown",
   "metadata": {},
   "source": [
    "### Saving data to numpy arrays"
   ]
  },
  {
   "cell_type": "code",
   "execution_count": 8,
   "metadata": {},
   "outputs": [],
   "source": [
    "ages = np.array(ages)\n",
    "images = np.array(images)"
   ]
  },
  {
   "cell_type": "code",
   "execution_count": 9,
   "metadata": {},
   "outputs": [],
   "source": [
    "np.save(\"UTKFaceChildAges.npy\", ages)\n",
    "np.save(\"UTKFaceChildImages.npy\", images)"
   ]
  },
  {
   "cell_type": "code",
   "execution_count": 10,
   "metadata": {},
   "outputs": [],
   "source": [
    "# Load the arrays from the files\n",
    "ages = np.load('UTKFaceChildAges.npy')\n",
    "images = np.load('UTKFaceChildImages.npy')"
   ]
  },
  {
   "cell_type": "markdown",
   "metadata": {},
   "source": [
    "### Find no. of elements in dataset and plot"
   ]
  },
  {
   "cell_type": "code",
   "execution_count": 11,
   "metadata": {},
   "outputs": [
    {
     "name": "stdout",
     "output_type": "stream",
     "text": [
      "[  1   2   3   4   5   6   7   8   9  10  11  12  13  14  15  16  17  18\n",
      "  19  20  21  22  23  24  25  26  27  28  29  30  31  32  33  34  35  36\n",
      "  37  38  39  40  41  42  43  44  45  46  47  48  49  50  51  52  53  54\n",
      "  55  56  57  58  59  60  61  62  63  64  65  66  67  68  69  70  71  72\n",
      "  73  74  75  76  77  78  79  80  81  82  83  84  85  86  87  88  89  90\n",
      "  91  92  93  95  96  99 100 101 103 105 110 111 115 116]\n",
      "[1123  482  289  273  196  131  139  263  166  156   65  130   81  157\n",
      "  177  247  158  262   98  284  346  395  426  859  734 2197  615  918\n",
      "  570  724  350  664  143  409  880  483  293  325  266  526  132  266\n",
      "  157  100  440  153  170  153  148  381  138  232  241  353  268  236\n",
      "   97  271   82  293  161  125  103   50  259   77   94  100   56  147\n",
      "   33   98   63   32  148   58   28   69   23  133   22   40   18   24\n",
      "  155   35   10   34   33   82    2   13    5    9   17    9   11    2\n",
      "    1    5    5    1    3    4]\n"
     ]
    }
   ],
   "source": [
    "values, counts = np.unique(ages, return_counts=True)\n",
    "print(f\"{values}\\n{counts}\")"
   ]
  },
  {
   "cell_type": "code",
   "execution_count": 12,
   "metadata": {},
   "outputs": [
    {
     "data": {
      "image/png": "[encoded data removed]",
      "text/plain": [
       "<Figure size 1200x400 with 1 Axes>"
      ]
     },
     "metadata": {},
     "output_type": "display_data"
    }
   ],
   "source": [
    "fig=plt.figure(figsize=(12,4))\n",
    "plt.plot(values, counts)\n",
    "plt.xticks(values)\n",
    "plt.xlabel(\"Ages\")\n",
    "plt.ylabel(\"Distribution\")\n",
    "plt.show()"
   ]
  },
  {
   "cell_type": "markdown",
   "metadata": {},
   "source": [
    "### Labels for output"
   ]
  },
  {
   "cell_type": "code",
   "execution_count": 13,
   "metadata": {},
   "outputs": [],
   "source": [
    "labels=[]\n",
    "i=0\n",
    "while i<len(ages):\n",
    "    label=[]\n",
    "    label.append(ages[i])\n",
    "    if(ages[i]<18):\n",
    "        label.append(1)\n",
    "    else:\n",
    "        label.append(0)\n",
    "    labels.append(label)\n",
    "    i=i+1"
   ]
  },
  {
   "cell_type": "code",
   "execution_count": 14,
   "metadata": {},
   "outputs": [
    {
     "data": {
      "text/plain": [
       "(23708, 64, 64, 3)"
      ]
     },
     "execution_count": 14,
     "metadata": {},
     "output_type": "execute_result"
    }
   ],
   "source": [
    "images_2 = images/255\n",
    "images_2.shape"
   ]
  },
  {
   "cell_type": "code",
   "execution_count": 15,
   "metadata": {},
   "outputs": [],
   "source": [
    "labels = np.array(labels)"
   ]
  },
  {
   "cell_type": "markdown",
   "metadata": {},
   "source": [
    "### Train Test Split"
   ]
  },
  {
   "cell_type": "code",
   "execution_count": 16,
   "metadata": {},
   "outputs": [],
   "source": [
    "X_train, X_test, Y_train, Y_test = train_test_split(images_2,labels,test_size=0.25,random_state=42)"
   ]
  },
  {
   "cell_type": "code",
   "execution_count": 17,
   "metadata": {},
   "outputs": [
    {
     "data": {
      "text/plain": [
       "array([[25,  0],\n",
       "       [30,  0],\n",
       "       [70,  0],\n",
       "       [71,  0],\n",
       "       [26,  0]])"
      ]
     },
     "execution_count": 17,
     "metadata": {},
     "output_type": "execute_result"
    }
   ],
   "source": [
    "Y_train[0:5]"
   ]
  },
  {
   "cell_type": "code",
   "execution_count": 18,
   "metadata": {},
   "outputs": [],
   "source": [
    "Y_train_2 = [Y_train[:,1],Y_train[:,0]]\n",
    "Y_test_2 = [Y_test[:,1],Y_test[:,0]]"
   ]
  },
  {
   "cell_type": "code",
   "execution_count": 19,
   "metadata": {},
   "outputs": [
    {
     "data": {
      "text/plain": [
       "[array([0, 0, 0, ..., 1, 0, 1]), array([25, 30, 70, ..., 16, 40,  9])]"
      ]
     },
     "execution_count": 19,
     "metadata": {},
     "output_type": "execute_result"
    }
   ],
   "source": [
    "Y_train_2"
   ]
  },
  {
   "cell_type": "markdown",
   "metadata": {},
   "source": [
    "### Defining the model"
   ]
  },
  {
   "cell_type": "code",
   "execution_count": 20,
   "metadata": {},
   "outputs": [],
   "source": [
    "def convolution(input_tensor, filters):\n",
    "    x=Conv2D(filters=filters, kernel_size=(3,3),padding=\"same\",strides=(1,1),kernel_regularizer=l2(0.001))(input_tensor)\n",
    "    x=Dropout(0.1)(x)\n",
    "    x=Activation(\"relu\")(x)\n",
    "    return x  "
   ]
  },
  {
   "cell_type": "code",
   "execution_count": 21,
   "metadata": {},
   "outputs": [],
   "source": [
    "def model(input_shape):\n",
    "    inputs = Input((input_shape))\n",
    "    conv_1=convolution(inputs, 32)\n",
    "    maxp_1=MaxPooling2D(pool_size=(2,2))(conv_1)\n",
    "    conv_2=convolution(maxp_1, 64)\n",
    "    maxp_2=MaxPooling2D(pool_size=(2,2))(conv_2)\n",
    "    conv_3=convolution(maxp_2, 128)\n",
    "    maxp_3=MaxPooling2D(pool_size=(2,2))(conv_3)\n",
    "    conv_4=convolution(maxp_3, 256)\n",
    "    maxp_4=MaxPooling2D(pool_size=(2,2))(conv_4)\n",
    "    conv_5=convolution(maxp_4, 512)\n",
    "    maxp_5=MaxPooling2D(pool_size=(2,2))(conv_5)\n",
    "    flatten=Flatten()(maxp_5)\n",
    "    dense_1=Dense(64,activation=\"swish\")(flatten)\n",
    "    dense_2=Dense(64,activation=\"swish\")(flatten)\n",
    "    drop_1=Dropout(0.2)(dense_1)\n",
    "    drop_2=Dropout(0.2)(dense_2)\n",
    "    output_1=Dense(1,activation=\"sigmoid\",name=\"child_out\")(drop_1)\n",
    "    output_2=Dense(1,activation=\"swish\",name=\"age_out\")(drop_2)\n",
    "    model=Model(inputs=[inputs],outputs=[output_1,output_2])\n",
    "    model.compile(loss=[\"binary_crossentropy\",\"mae\"],optimizer=\"Adam\",metrics=[\"accuracy\"])\n",
    "    return model"
   ]
  },
  {
   "cell_type": "code",
   "execution_count": 22,
   "metadata": {},
   "outputs": [
    {
     "name": "stdout",
     "output_type": "stream",
     "text": [
      "WARNING:tensorflow:From c:\\Python311\\Lib\\site-packages\\keras\\src\\backend.py:1398: The name tf.executing_eagerly_outside_functions is deprecated. Please use tf.compat.v1.executing_eagerly_outside_functions instead.\n",
      "\n",
      "WARNING:tensorflow:From c:\\Python311\\Lib\\site-packages\\keras\\src\\layers\\pooling\\max_pooling2d.py:161: The name tf.nn.max_pool is deprecated. Please use tf.nn.max_pool2d instead.\n",
      "\n",
      "WARNING:tensorflow:From c:\\Python311\\Lib\\site-packages\\keras\\src\\optimizers\\__init__.py:309: The name tf.train.Optimizer is deprecated. Please use tf.compat.v1.train.Optimizer instead.\n",
      "\n"
     ]
    },
    {
     "data": {
      "text/plain": [
       "<keras.src.engine.functional.Functional at 0x274229b6f10>"
      ]
     },
     "execution_count": 22,
     "metadata": {},
     "output_type": "execute_result"
    }
   ],
   "source": [
    "Model = model((48,48,3))\n",
    "Model"
   ]
  },
  {
   "cell_type": "code",
   "execution_count": 23,
   "metadata": {},
   "outputs": [
    {
     "name": "stdout",
     "output_type": "stream",
     "text": [
      "Model: \"model\"\n",
      "__________________________________________________________________________________________________\n",
      " Layer (type)                Output Shape                 Param #   Connected to                  \n",
      "==================================================================================================\n",
      " input_1 (InputLayer)        [(None, 48, 48, 3)]          0         []                            \n",
      "                                                                                                  \n",
      " conv2d (Conv2D)             (None, 48, 48, 32)           896       ['input_1[0][0]']             \n",
      "                                                                                                  \n",
      " dropout (Dropout)           (None, 48, 48, 32)           0         ['conv2d[0][0]']              \n",
      "                                                                                                  \n",
      " activation (Activation)     (None, 48, 48, 32)           0         ['dropout[0][0]']             \n",
      "                                                                                                  \n",
      " max_pooling2d (MaxPooling2  (None, 24, 24, 32)           0         ['activation[0][0]']          \n",
      " D)                                                                                               \n",
      "                                                                                                  \n",
      " conv2d_1 (Conv2D)           (None, 24, 24, 64)           18496     ['max_pooling2d[0][0]']       \n",
      "                                                                                                  \n",
      " dropout_1 (Dropout)         (None, 24, 24, 64)           0         ['conv2d_1[0][0]']            \n",
      "                                                                                                  \n",
      " activation_1 (Activation)   (None, 24, 24, 64)           0         ['dropout_1[0][0]']           \n",
      "                                                                                                  \n",
      " max_pooling2d_1 (MaxPoolin  (None, 12, 12, 64)           0         ['activation_1[0][0]']        \n",
      " g2D)                                                                                             \n",
      "                                                                                                  \n",
      " conv2d_2 (Conv2D)           (None, 12, 12, 128)          73856     ['max_pooling2d_1[0][0]']     \n",
      "                                                                                                  \n",
      " dropout_2 (Dropout)         (None, 12, 12, 128)          0         ['conv2d_2[0][0]']            \n",
      "                                                                                                  \n",
      " activation_2 (Activation)   (None, 12, 12, 128)          0         ['dropout_2[0][0]']           \n",
      "                                                                                                  \n",
      " max_pooling2d_2 (MaxPoolin  (None, 6, 6, 128)            0         ['activation_2[0][0]']        \n",
      " g2D)                                                                                             \n",
      "                                                                                                  \n",
      " conv2d_3 (Conv2D)           (None, 6, 6, 256)            295168    ['max_pooling2d_2[0][0]']     \n",
      "                                                                                                  \n",
      " dropout_3 (Dropout)         (None, 6, 6, 256)            0         ['conv2d_3[0][0]']            \n",
      "                                                                                                  \n",
      " activation_3 (Activation)   (None, 6, 6, 256)            0         ['dropout_3[0][0]']           \n",
      "                                                                                                  \n",
      " max_pooling2d_3 (MaxPoolin  (None, 3, 3, 256)            0         ['activation_3[0][0]']        \n",
      " g2D)                                                                                             \n",
      "                                                                                                  \n",
      " conv2d_4 (Conv2D)           (None, 3, 3, 512)            1180160   ['max_pooling2d_3[0][0]']     \n",
      "                                                                                                  \n",
      " dropout_4 (Dropout)         (None, 3, 3, 512)            0         ['conv2d_4[0][0]']            \n",
      "                                                                                                  \n",
      " activation_4 (Activation)   (None, 3, 3, 512)            0         ['dropout_4[0][0]']           \n",
      "                                                                                                  \n",
      " max_pooling2d_4 (MaxPoolin  (None, 1, 1, 512)            0         ['activation_4[0][0]']        \n",
      " g2D)                                                                                             \n",
      "                                                                                                  \n",
      " flatten (Flatten)           (None, 512)                  0         ['max_pooling2d_4[0][0]']     \n",
      "                                                                                                  \n",
      " dense (Dense)               (None, 64)                   32832     ['flatten[0][0]']             \n",
      "                                                                                                  \n",
      " dense_1 (Dense)             (None, 64)                   32832     ['flatten[0][0]']             \n",
      "                                                                                                  \n",
      " dropout_5 (Dropout)         (None, 64)                   0         ['dense[0][0]']               \n",
      "                                                                                                  \n",
      " dropout_6 (Dropout)         (None, 64)                   0         ['dense_1[0][0]']             \n",
      "                                                                                                  \n",
      " child_out (Dense)           (None, 1)                    65        ['dropout_5[0][0]']           \n",
      "                                                                                                  \n",
      " age_out (Dense)             (None, 1)                    65        ['dropout_6[0][0]']           \n",
      "                                                                                                  \n",
      "==================================================================================================\n",
      "Total params: 1634370 (6.23 MB)\n",
      "Trainable params: 1634370 (6.23 MB)\n",
      "Non-trainable params: 0 (0.00 Byte)\n",
      "__________________________________________________________________________________________________\n"
     ]
    }
   ],
   "source": [
    "Model.summary()"
   ]
  },
  {
   "cell_type": "code",
   "execution_count": 24,
   "metadata": {},
   "outputs": [],
   "source": [
    "fle_s = \"child_detection.h5\"\n",
    "checkpoint=ModelCheckpoint(fle_s,monitor=\"val_loss\",verbose=1,save_best_only=True,save_weights_only=False,mode=\"auto\",save_freq=\"epoch\")\n",
    "early_stop=EarlyStopping(patience=50,monitor=\"val_loss\",restore_best_weights=True)\n",
    "callback_list=[checkpoint,early_stop]"
   ]
  },
  {
   "cell_type": "code",
   "execution_count": null,
   "metadata": {},
   "outputs": [],
   "source": [
    "# Use google colab GPU for faster epoch runs\n",
    "History=Model.fit(X_train,Y_train_2,batch_size=64,validation_data=(X_test,Y_test_2),epochs=250,callbacks=callback_list)"
   ]
  },
  {
   "cell_type": "code",
   "execution_count": null,
   "metadata": {},
   "outputs": [],
   "source": [
    "# Save history to a file\n",
    "with open('training_history_child_detect.pkl', 'wb') as file:\n",
    "    pickle.dump(History.history, file)"
   ]
  },
  {
   "cell_type": "code",
   "execution_count": null,
   "metadata": {},
   "outputs": [],
   "source": [
    "Model = load_model(\"child_detection.h5\")"
   ]
  },
  {
   "cell_type": "code",
   "execution_count": null,
   "metadata": {},
   "outputs": [],
   "source": [
    "# load history\n",
    "with open('training_history_child_detect.pkl', 'rb') as file:\n",
    "    History = pickle.load(file)"
   ]
  },
  {
   "cell_type": "code",
   "execution_count": null,
   "metadata": {},
   "outputs": [],
   "source": [
    "Model.evaluate(X_test, Y_test_2)"
   ]
  },
  {
   "cell_type": "code",
   "execution_count": null,
   "metadata": {},
   "outputs": [],
   "source": [
    "pred=Model.predict(X_test)"
   ]
  },
  {
   "cell_type": "code",
   "execution_count": null,
   "metadata": {},
   "outputs": [],
   "source": [
    "pred[0]"
   ]
  },
  {
   "cell_type": "code",
   "execution_count": null,
   "metadata": {},
   "outputs": [],
   "source": [
    "# Access loss values directly from the dictionary\n",
    "loss = History[\"loss\"]\n",
    "val_loss = History[\"val_loss\"]\n",
    "child_out_accuracy = History[\"child_out_accuracy\"]\n",
    "val_child_out_accuracy = History[\"val_child_out_accuracy\"]"
   ]
  },
  {
   "cell_type": "code",
   "execution_count": null,
   "metadata": {},
   "outputs": [],
   "source": [
    "# plt.plot(History.history[\"loss\"])\n",
    "# plt.plot(History.history[\"val_loss\"])\n",
    "# plt.title(\"Model Loss\")\n",
    "# plt.xlabel(\"Epoch\")\n",
    "# plt.ylabel(\"Loss\")\n",
    "# plt.legend([\"Train\", \"Validation\"],loc=\"upper left\")\n",
    "# plt.subplots_adjust(top=1.0,bottom=0.0,right=0.95,left=0.0,hspace=0.25,wspace=0.35)"
   ]
  },
  {
   "cell_type": "code",
   "execution_count": null,
   "metadata": {},
   "outputs": [],
   "source": [
    "plt.plot(loss)\n",
    "plt.plot(val_loss)\n",
    "plt.title(\"Model Loss\")\n",
    "plt.xlabel(\"Epoch\")\n",
    "plt.ylabel(\"Loss\")\n",
    "plt.legend([\"Train\", \"Validation\"],loc=\"upper left\")\n",
    "plt.subplots_adjust(top=1.0,bottom=0.0,right=0.95,left=0.0,hspace=0.25,wspace=0.35)"
   ]
  },
  {
   "cell_type": "code",
   "execution_count": null,
   "metadata": {},
   "outputs": [],
   "source": [
    "# plt.plot(History.history[\"sex_out_accuracy\"])\n",
    "# plt.plot(History.history[\"val_sex_out_accuracy\"])\n",
    "# plt.title(\"Model Accuracy\")\n",
    "# plt.xlabel(\"Epoch\")\n",
    "# plt.ylabel(\"Accuracy\")\n",
    "# plt.legend([\"Train\", \"Validation\"],loc=\"upper left\")\n",
    "# plt.subplots_adjust(top=1.0,bottom=0.0,right=0.95,left=0.0,hspace=0.25,wspace=0.35)"
   ]
  },
  {
   "cell_type": "code",
   "execution_count": null,
   "metadata": {},
   "outputs": [],
   "source": [
    "plt.plot(child_out_accuracy)\n",
    "plt.plot(val_child_out_accuracy)\n",
    "plt.title(\"Model Accuracy\")\n",
    "plt.xlabel(\"Epoch\")\n",
    "plt.ylabel(\"Accuracy\")\n",
    "plt.legend([\"Train\", \"Validation\"],loc=\"upper left\")\n",
    "plt.subplots_adjust(top=1.0,bottom=0.0,right=0.95,left=0.0,hspace=0.25,wspace=0.35)"
   ]
  },
  {
   "cell_type": "code",
   "execution_count": null,
   "metadata": {},
   "outputs": [],
   "source": [
    "fig,ax=plt.subplots()\n",
    "ax.scatter(Y_test_2[1],pred[1])\n",
    "ax.plot([Y_test_2[1].min(),Y_test_2[1].max()],[Y_test_2[1].min(),Y_test_2[1].max()],\"k--\",lw=4)\n",
    "ax.set_title(\"Age Prediction Accuracy\")\n",
    "ax.set_xlabel(\"Actual Age\")\n",
    "ax.set_ylabel(\"Predicted Age\")"
   ]
  },
  {
   "cell_type": "markdown",
   "metadata": {},
   "source": [
    "### Report and Results"
   ]
  },
  {
   "cell_type": "code",
   "execution_count": null,
   "metadata": {},
   "outputs": [],
   "source": [
    "i=0\n",
    "Pred_l=[]\n",
    "while(i<len(pred[0])):\n",
    "    Pred_l.append(int(np.round(pred[0][i])))\n",
    "    i=i+1"
   ]
  },
  {
   "cell_type": "code",
   "execution_count": null,
   "metadata": {},
   "outputs": [],
   "source": [
    "report=classification_report(Y_test_2[0],Pred_l)\n",
    "print(report)"
   ]
  },
  {
   "cell_type": "code",
   "execution_count": null,
   "metadata": {},
   "outputs": [],
   "source": [
    "results=confusion_matrix(Y_test_2[0],Pred_l)\n",
    "sns.heatmap(results,annot=True)"
   ]
  },
  {
   "cell_type": "markdown",
   "metadata": {},
   "source": [
    "### Tests"
   ]
  },
  {
   "cell_type": "code",
   "execution_count": null,
   "metadata": {},
   "outputs": [],
   "source": [
    "def test_image(ind, images, images_2, Model):\n",
    "    plt.imshow(images[ind])\n",
    "    image_test=images_2[ind]\n",
    "    pred_l=Model.predict(np.array([image_test]))\n",
    "    child_or_not=[\"Yes\",\"No\"]\n",
    "    age=int(np.round(pred_l[1][0]))\n",
    "    child=int(np.round(pred_l[0][0]))\n",
    "    print(\"Predicted Age:\", str(age))\n",
    "    print(\"Predicted Gender:\", child_or_not[child])"
   ]
  },
  {
   "cell_type": "code",
   "execution_count": null,
   "metadata": {},
   "outputs": [],
   "source": [
    "test_image(4,images,images_2,Model)"
   ]
  },
  {
   "cell_type": "code",
   "execution_count": null,
   "metadata": {},
   "outputs": [],
   "source": []
  }
 ],
 "metadata": {
  "kernelspec": {
   "display_name": "Python 3",
   "language": "python",
   "name": "python3"
  },
  "language_info": {
   "codemirror_mode": {
    "name": "ipython",
    "version": 3
   },
   "file_extension": ".py",
   "mimetype": "text/x-python",
   "name": "python",
   "nbconvert_exporter": "python",
   "pygments_lexer": "ipython3",
   "version": "3.11.2"
  },
  "orig_nbformat": 4
 },
 "nbformat": 4,
 "nbformat_minor": 2
}
